{
 "cells": [
  {
   "cell_type": "markdown",
   "metadata": {},
   "source": [
    "### Python Assignment\n",
    "\n",
    "#### Question 1: Functions\n",
    "Provide two examples of built-in functions and describe their purpose."
   ]
  },
  {
   "cell_type": "code",
   "execution_count": null,
   "metadata": {},
   "outputs": [],
   "source": [
    "print(\"1\") # This function u can use it for printing any data (Str, int, bool, ......).\n",
    "type(1) # This function u can use it for knowing the datatype of any data"
   ]
  },
  {
   "cell_type": "markdown",
   "metadata": {},
   "source": [
    "#### Question 2: Comments\n",
    "Show the difference between single-line comments and multi-line comments in Python."
   ]
  },
  {
   "cell_type": "code",
   "execution_count": null,
   "metadata": {},
   "outputs": [],
   "source": [
    "# this is the single line comments...\n",
    "\n",
    "\"\"\" This \n",
    "    is\n",
    "    the \n",
    "    multi \n",
    "    line \n",
    "    comments.... \n",
    "\"\"\""
   ]
  },
  {
   "cell_type": "markdown",
   "metadata": {},
   "source": [
    "#### Question 3: Variables and Errors\n",
    "Consider the following code:"
   ]
  },
  {
   "cell_type": "markdown",
   "metadata": {},
   "source": [
    "- What will happen when the code is executed? Why?\n",
    "- Correct the code so it runs without errors."
   ]
  },
  {
   "cell_type": "code",
   "execution_count": null,
   "metadata": {},
   "outputs": [],
   "source": [
    "my_var = 10\n",
    "MyVar = 5\n",
    "print(myvar)\n",
    "\n",
    "# The output result is ERROR; because the letters does not the same as any one of the defined variables, letter type is very important in python\n",
    "\n",
    "# if u want run this code without errors u have to put any defined variable in print constructor \"()\".\n",
    "\n",
    "# in this code u can do this :\n",
    "\n",
    "my_var = 10\n",
    "MyVar = 5\n",
    "print(my_var)\n",
    "\n",
    "# or this :\n",
    "\n",
    "my_var = 10\n",
    "MyVar = 5\n",
    "print(MyVar)"
   ]
  },
  {
   "cell_type": "markdown",
   "metadata": {},
   "source": [
    "### Question 4: String Formatting\n",
    "Write a praogram that prints the following sentence using **f-strings**, **`.format()` method**, and **comma-separated arguments in the `print()` function**:\n",
    "\n",
    "```\n",
    "My name is Hassan, and I am 16 years old.\n",
    "```"
   ]
  },
  {
   "cell_type": "code",
   "execution_count": null,
   "metadata": {},
   "outputs": [],
   "source": [
    "name = \"SEIF ALDEN HAMADA\"\n",
    "age = 18\n",
    "\n",
    "print(\"My name is {}, and I am {} years old.\".format(name,age))"
   ]
  },
  {
   "cell_type": "markdown",
   "metadata": {},
   "source": [
    "#### Question 5: Debugging\n",
    "There is a bug in the following code:"
   ]
  },
  {
   "cell_type": "markdown",
   "metadata": {},
   "source": [
    "- Identify the bug and explain why it occurs.\n",
    "- Fix the bug and provide the corrected code."
   ]
  },
  {
   "cell_type": "code",
   "execution_count": null,
   "metadata": {},
   "outputs": [],
   "source": [
    "name = \"John\"\n",
    "age = \"twenty-five\"\n",
    "print(f'My name's {name} and I am {age} years old.')\n",
    "\n",
    "# The bug is: print function can not print and gives error because the dev did not change the type of quotation, because the  quotation in \" My name's \" is the same as the quotations used for print function so u have to change it to other type like double quotations\n",
    "\n",
    "# The corrected code :\n",
    "\n",
    "name = \"John\"\n",
    "age = \"twenty-five\"\n",
    "print(f\"My name's {name} and I am {age} years old.\")\n"
   ]
  },
  {
   "cell_type": "markdown",
   "metadata": {},
   "source": [
    "Examine the following code snippet:\n",
    "- What error will occur when this code is executed? Why?\n",
    "- Fix the code so that it prints the last character of the string without causing an error."
   ]
  },
  {
   "cell_type": "code",
   "execution_count": null,
   "metadata": {},
   "outputs": [],
   "source": [
    "text = \"Python Programming\"\n",
    "print(text[20])\n",
    "\n",
    "# IndexError, because the length of the value of \"text\" or \"Python Programming\" is just 19, so there is no index 20\n",
    "\n",
    "# fixed code that print the last char of the str : \n",
    "\n",
    "text = \"Python Programming\"\n",
    "print(text[-1])"
   ]
  },
  {
   "cell_type": "markdown",
   "metadata": {},
   "source": [
    "#### Question 6: String Slicing\n",
    "Given the string:\n",
    "\n",
    "- Write code to extract and reverse the word \"Learning\" using slicing.\n",
    "    - Once with +ve indexing\n",
    "    - Once with -ve indexing "
   ]
  },
  {
   "cell_type": "code",
   "execution_count": 22,
   "metadata": {},
   "outputs": [
    {
     "name": "stdout",
     "output_type": "stream",
     "text": [
      "gninraeL\n",
      "gninraeL\n"
     ]
    }
   ],
   "source": [
    "text = \"Machine Learning and AI\"\n",
    "\n",
    "# +ve indexing :\n",
    "print(text[15:7:-1])\n",
    "# -ve indexing :\n",
    "print(text[-8:-16:-1])"
   ]
  },
  {
   "cell_type": "markdown",
   "metadata": {},
   "source": [
    "#### Question 6: Practical Problem\n",
    "Create a Python program that performs the following:\n",
    "1. Define a string `quote = \"Data is the new oil\"`.\n",
    "2. Use string slicing to extract the word \"Data\" and assign it to a variable.\n",
    "3. Use a built-in function to convert the entire `quote` string to uppercase.\n",
    "4. Print the final result."
   ]
  },
  {
   "cell_type": "code",
   "execution_count": 31,
   "metadata": {},
   "outputs": [
    {
     "name": "stdout",
     "output_type": "stream",
     "text": [
      "The extracted word is Data, and the converted entire quote to uppercase is <built-in method upper of str object at 0x1083f39b0>. \n"
     ]
    }
   ],
   "source": [
    "quote = \"Data is the new oil\"\n",
    "dataSplit = quote.split()\n",
    "dataFinal = \"\".join(dataSplit[0])\n",
    "print(f\"The extracted word is {dataFinal}, and the converted entire quote to uppercase is {quote.upper}. \")"
   ]
  }
 ],
 "metadata": {
  "kernelspec": {
   "display_name": "Python 3.12.0 64-bit",
   "language": "python",
   "name": "python3"
  },
  "language_info": {
   "codemirror_mode": {
    "name": "ipython",
    "version": 3
   },
   "file_extension": ".py",
   "mimetype": "text/x-python",
   "name": "python",
   "nbconvert_exporter": "python",
   "pygments_lexer": "ipython3",
   "version": "3.12.0"
  },
  "vscode": {
   "interpreter": {
    "hash": "aee8b7b246df8f9039afb4144a1f6fd8d2ca17a180786b69acc140d282b71a49"
   }
  }
 },
 "nbformat": 4,
 "nbformat_minor": 2
}
